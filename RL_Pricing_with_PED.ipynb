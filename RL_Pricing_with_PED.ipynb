{
 "cells": [
  {
   "cell_type": "markdown",
   "metadata": {},
   "source": [
    "# Reinforcement Learning for Dynamic Pricing\n",
    "## Incorporating Price Elasticity of Demand (PED)"
   ]
  },
  {
   "cell_type": "code",
   "execution_count": 2,
   "metadata": {},
   "outputs": [],
   "source": [
    "# Import required libraries\n",
    "import numpy as np\n",
    "import pandas as pd\n",
    "import random\n",
    "from sklearn.preprocessing import StandardScaler, LabelEncoder\n",
    "import gym\n",
    "from gym import spaces\n",
    "import matplotlib.pyplot as plt\n"
   ]
  },
  {
   "cell_type": "markdown",
   "metadata": {},
   "source": [
    "## Load and Preprocess Data"
   ]
  },
  {
   "cell_type": "code",
   "execution_count": null,
   "metadata": {},
   "outputs": [],
   "source": [
    "# Load dataset\n",
    "df = pd.read_csv(\"Grocery_Sales_Final.csv\")\n",
    "\n",
    "# Encode categorical variables\n",
    "label_encoders = {}\n",
    "for col in ['Outlet_Type', 'Item_Fat_Content', 'Item_Type']:\n",
    "    le = LabelEncoder()\n",
    "    df[col] = le.fit_transform(df[col])\n",
    "    label_encoders[col] = le\n",
    "\n",
    "# Standardize numerical variables\n",
    "scaler = StandardScaler()\n",
    "df[['Item_MRP', 'Item_Visibility']] = scaler.fit_transform(df[['Item_MRP', 'Item_Visibility']])\n",
    "\n",
    "# Compute Price Elasticity of Demand (PED)\n",
    "df['PED'] = (df['Item_Outlet_Sales'].pct_change() / df['Item_MRP'].pct_change()).fillna(0)\n",
    "\n",
    "# Fill missing PED values with median (to handle NaNs from pct_change)\n",
    "df['PED'].fillna(df['PED'].median(), inplace=True)"
   ]
  },
  {
   "cell_type": "markdown",
   "metadata": {},
   "source": [
    "## Define Custom Gym Environment for RL"
   ]
  },
  {
   "cell_type": "code",
   "execution_count": null,
   "metadata": {},
   "outputs": [],
   "source": [
    "class PricingEnv(gym.Env):\n",
    "    def __init__(self, df):\n",
    "        super(PricingEnv, self).__init__()\n",
    "        self.df = df.copy()\n",
    "        self.current_index = 0\n",
    "        \n",
    "        # Define action and observation space\n",
    "        self.action_space = spaces.Discrete(3)  # [Decrease Price, Keep Price, Increase Price]\n",
    "        self.observation_space = spaces.Box(\n",
    "            low=np.array([-3, -1, 0, 0, -3]),  # Lower bound for state variables\n",
    "            high=np.array([3, 1, 1, 1, 3]),    # Upper bound for state variables\n",
    "            dtype=np.float32\n",
    "        )\n",
    "    \n",
    "    def reset(self):\n",
    "        self.current_index = random.randint(0, len(self.df) - 1)\n",
    "        return self._get_state()\n",
    "    \n",
    "    def _get_state(self):\n",
    "        row = self.df.iloc[self.current_index]\n",
    "        return np.array([\n",
    "            row['Item_MRP'],\n",
    "            row['Item_Visibility'],\n",
    "            row['Outlet_Type'],\n",
    "            row['Item_Fat_Content'],\n",
    "            row['PED']\n",
    "        ], dtype=np.float32)\n",
    "    \n",
    "    def step(self, action):\n",
    "        row = self.df.iloc[self.current_index]\n",
    "        \n",
    "        # Define action space dynamically based on PED\n",
    "        ped_value = row['PED']\n",
    "        if ped_value < -1:\n",
    "            price_change = [-0.05, 0, 0.02][action]  # More decrease, less increase\n",
    "        else:\n",
    "            price_change = [-0.02, 0, 0.05][action]  # Less decrease, more increase\n",
    "        \n",
    "        new_price = row['Item_MRP'] * (1 + price_change)\n",
    "        new_sales = row['Item_Outlet_Sales'] * (1 + ped_value * price_change)\n",
    "        revenue = new_price * new_sales\n",
    "        \n",
    "        # Reward = Revenue Change\n",
    "        reward = revenue - (row['Item_MRP'] * row['Item_Outlet_Sales'])\n",
    "        \n",
    "        # Move to next product\n",
    "        self.current_index = (self.current_index + 1) % len(self.df)\n",
    "        \n",
    "        return self._get_state(), reward, False, {}\n"
   ]
  },
  {
   "cell_type": "markdown",
   "metadata": {},
   "source": [
    "## Train the RL Model Using Q-Learning"
   ]
  },
  {
   "cell_type": "code",
   "execution_count": null,
   "metadata": {},
   "outputs": [],
   "source": [
    "env = PricingEnv(df)\n",
    "q_table = np.zeros((len(df), 3))  # Q-table for actions\n",
    "\n",
    "learning_rate = 0.1\n",
    "discount_factor = 0.9\n",
    "epsilon = 0.1  # Exploration factor\n",
    "\n",
    "# Training loop\n",
    "for episode in range(1000):\n",
    "    state = env.reset()\n",
    "    done = False\n",
    "    while not done:\n",
    "        if np.random.rand() < epsilon:\n",
    "            action = env.action_space.sample()\n",
    "        else:\n",
    "            action = np.argmax(q_table[env.current_index])\n",
    "        \n",
    "        new_state, reward, done, _ = env.step(action)\n",
    "        q_table[env.current_index, action] = q_table[env.current_index, action] + learning_rate * (\n",
    "            reward + discount_factor * np.max(q_table[env.current_index]) - q_table[env.current_index, action]\n",
    "        )\n",
    "\n",
    "print(\"RL Training Completed!\")"
   ]
  }
 ],
 "metadata": {
  "kernelspec": {
   "display_name": "Python 3",
   "language": "python",
   "name": "python3"
  },
  "language_info": {
   "codemirror_mode": {
    "name": "ipython",
    "version": 3
   },
   "file_extension": ".py",
   "mimetype": "text/x-python",
   "name": "python",
   "nbconvert_exporter": "python",
   "pygments_lexer": "ipython3",
   "version": "3.11.4"
  }
 },
 "nbformat": 4,
 "nbformat_minor": 4
}
